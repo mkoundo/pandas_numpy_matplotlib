{
 "cells": [
  {
   "cell_type": "markdown",
   "metadata": {},
   "source": [
    "## Jupyter Notebooks Introduction, Setup and Walkthrough\n",
    "\n",
    "Corey Schafer's jupyter notebooks introduction, setup and [tutorial](https://www.youtube.com/watch?v=HW29067qVWk)"
   ]
  },
  {
   "cell_type": "code",
   "execution_count": 16,
   "metadata": {},
   "outputs": [],
   "source": [
    "name = 'John'"
   ]
  },
  {
   "cell_type": "code",
   "execution_count": 17,
   "metadata": {},
   "outputs": [
    {
     "data": {
      "text/plain": [
       "'John'"
      ]
     },
     "execution_count": 17,
     "metadata": {},
     "output_type": "execute_result"
    }
   ],
   "source": [
    "name"
   ]
  },
  {
   "cell_type": "code",
   "execution_count": 18,
   "metadata": {},
   "outputs": [
    {
     "name": "stdout",
     "output_type": "stream",
     "text": [
      "Package            Version\n",
      "------------------ -------\n",
      "attrs              19.3.0\n",
      "backcall           0.2.0\n",
      "bleach             3.1.5\n",
      "colorama           0.4.3\n",
      "cycler             0.10.0\n",
      "decorator          4.4.2\n",
      "defusedxml         0.6.0\n",
      "entrypoints        0.3\n",
      "ipykernel          5.3.3\n",
      "ipython            7.16.1\n",
      "ipython-genutils   0.2.0\n",
      "ipywidgets         7.5.1\n",
      "jedi               0.17.2\n",
      "Jinja2             2.11.2\n",
      "joblib             0.16.0\n",
      "jsonschema         3.2.0\n",
      "jupyter            1.0.0\n",
      "jupyter-client     6.1.6\n",
      "jupyter-console    6.1.0\n",
      "jupyter-core       4.6.3\n",
      "kiwisolver         1.2.0\n",
      "MarkupSafe         1.1.1\n",
      "matplotlib         3.3.0\n",
      "mistune            0.8.4\n",
      "nbconvert          5.6.1\n",
      "nbformat           5.0.7\n",
      "notebook           6.0.3\n",
      "numpy              1.19.0\n",
      "packaging          20.4\n",
      "pandas             1.0.5\n",
      "pandocfilters      1.4.2\n",
      "parso              0.7.0\n",
      "pickleshare        0.7.5\n",
      "Pillow             7.2.0\n",
      "pip                20.2.2\n",
      "prometheus-client  0.8.0\n",
      "prompt-toolkit     3.0.5\n",
      "Pygments           2.6.1\n",
      "pyparsing          2.4.7\n",
      "pyrsistent         0.16.0\n",
      "python-dateutil    2.8.1\n",
      "pytz               2020.1\n",
      "pywin32            228\n",
      "pywinpty           0.5.7\n",
      "pyzmq              19.0.1\n",
      "qtconsole          4.7.5\n",
      "QtPy               1.9.0\n",
      "scikit-learn       0.23.1\n",
      "scipy              1.5.2\n",
      "Send2Trash         1.5.0\n",
      "setuptools         49.2.0\n",
      "six                1.15.0\n",
      "sklearn            0.0\n",
      "terminado          0.8.3\n",
      "testpath           0.4.4\n",
      "threadpoolctl      2.1.0\n",
      "tornado            6.0.4\n",
      "traitlets          4.3.3\n",
      "wcwidth            0.2.5\n",
      "webencodings       0.5.1\n",
      "widgetsnbextension 3.5.1\n"
     ]
    }
   ],
   "source": [
    "!pip list"
   ]
  },
  {
   "cell_type": "code",
   "execution_count": 19,
   "metadata": {},
   "outputs": [
    {
     "data": {
      "application/json": {
       "cell": {
        "!": "OSMagics",
        "HTML": "Other",
        "SVG": "Other",
        "bash": "Other",
        "capture": "ExecutionMagics",
        "cmd": "Other",
        "debug": "ExecutionMagics",
        "file": "Other",
        "html": "DisplayMagics",
        "javascript": "DisplayMagics",
        "js": "DisplayMagics",
        "latex": "DisplayMagics",
        "markdown": "DisplayMagics",
        "perl": "Other",
        "prun": "ExecutionMagics",
        "pypy": "Other",
        "python": "Other",
        "python2": "Other",
        "python3": "Other",
        "ruby": "Other",
        "script": "ScriptMagics",
        "sh": "Other",
        "svg": "DisplayMagics",
        "sx": "OSMagics",
        "system": "OSMagics",
        "time": "ExecutionMagics",
        "timeit": "ExecutionMagics",
        "writefile": "OSMagics"
       },
       "line": {
        "alias": "OSMagics",
        "alias_magic": "BasicMagics",
        "autoawait": "AsyncMagics",
        "autocall": "AutoMagics",
        "automagic": "AutoMagics",
        "autosave": "KernelMagics",
        "bookmark": "OSMagics",
        "cd": "OSMagics",
        "clear": "KernelMagics",
        "cls": "KernelMagics",
        "colors": "BasicMagics",
        "conda": "PackagingMagics",
        "config": "ConfigMagics",
        "connect_info": "KernelMagics",
        "copy": "Other",
        "ddir": "Other",
        "debug": "ExecutionMagics",
        "dhist": "OSMagics",
        "dirs": "OSMagics",
        "doctest_mode": "BasicMagics",
        "echo": "Other",
        "ed": "Other",
        "edit": "KernelMagics",
        "env": "OSMagics",
        "gui": "BasicMagics",
        "hist": "Other",
        "history": "HistoryMagics",
        "killbgscripts": "ScriptMagics",
        "ldir": "Other",
        "less": "KernelMagics",
        "load": "CodeMagics",
        "load_ext": "ExtensionMagics",
        "loadpy": "CodeMagics",
        "logoff": "LoggingMagics",
        "logon": "LoggingMagics",
        "logstart": "LoggingMagics",
        "logstate": "LoggingMagics",
        "logstop": "LoggingMagics",
        "ls": "Other",
        "lsmagic": "BasicMagics",
        "macro": "ExecutionMagics",
        "magic": "BasicMagics",
        "matplotlib": "PylabMagics",
        "mkdir": "Other",
        "more": "KernelMagics",
        "notebook": "BasicMagics",
        "page": "BasicMagics",
        "pastebin": "CodeMagics",
        "pdb": "ExecutionMagics",
        "pdef": "NamespaceMagics",
        "pdoc": "NamespaceMagics",
        "pfile": "NamespaceMagics",
        "pinfo": "NamespaceMagics",
        "pinfo2": "NamespaceMagics",
        "pip": "PackagingMagics",
        "popd": "OSMagics",
        "pprint": "BasicMagics",
        "precision": "BasicMagics",
        "prun": "ExecutionMagics",
        "psearch": "NamespaceMagics",
        "psource": "NamespaceMagics",
        "pushd": "OSMagics",
        "pwd": "OSMagics",
        "pycat": "OSMagics",
        "pylab": "PylabMagics",
        "qtconsole": "KernelMagics",
        "quickref": "BasicMagics",
        "recall": "HistoryMagics",
        "rehashx": "OSMagics",
        "reload_ext": "ExtensionMagics",
        "ren": "Other",
        "rep": "Other",
        "rerun": "HistoryMagics",
        "reset": "NamespaceMagics",
        "reset_selective": "NamespaceMagics",
        "rmdir": "Other",
        "run": "ExecutionMagics",
        "save": "CodeMagics",
        "sc": "OSMagics",
        "set_env": "OSMagics",
        "store": "StoreMagics",
        "sx": "OSMagics",
        "system": "OSMagics",
        "tb": "ExecutionMagics",
        "time": "ExecutionMagics",
        "timeit": "ExecutionMagics",
        "unalias": "OSMagics",
        "unload_ext": "ExtensionMagics",
        "who": "NamespaceMagics",
        "who_ls": "NamespaceMagics",
        "whos": "NamespaceMagics",
        "xdel": "NamespaceMagics",
        "xmode": "BasicMagics"
       }
      },
      "text/plain": [
       "Available line magics:\n",
       "%alias  %alias_magic  %autoawait  %autocall  %automagic  %autosave  %bookmark  %cd  %clear  %cls  %colors  %conda  %config  %connect_info  %copy  %ddir  %debug  %dhist  %dirs  %doctest_mode  %echo  %ed  %edit  %env  %gui  %hist  %history  %killbgscripts  %ldir  %less  %load  %load_ext  %loadpy  %logoff  %logon  %logstart  %logstate  %logstop  %ls  %lsmagic  %macro  %magic  %matplotlib  %mkdir  %more  %notebook  %page  %pastebin  %pdb  %pdef  %pdoc  %pfile  %pinfo  %pinfo2  %pip  %popd  %pprint  %precision  %prun  %psearch  %psource  %pushd  %pwd  %pycat  %pylab  %qtconsole  %quickref  %recall  %rehashx  %reload_ext  %ren  %rep  %rerun  %reset  %reset_selective  %rmdir  %run  %save  %sc  %set_env  %store  %sx  %system  %tb  %time  %timeit  %unalias  %unload_ext  %who  %who_ls  %whos  %xdel  %xmode\n",
       "\n",
       "Available cell magics:\n",
       "%%!  %%HTML  %%SVG  %%bash  %%capture  %%cmd  %%debug  %%file  %%html  %%javascript  %%js  %%latex  %%markdown  %%perl  %%prun  %%pypy  %%python  %%python2  %%python3  %%ruby  %%script  %%sh  %%svg  %%sx  %%system  %%time  %%timeit  %%writefile\n",
       "\n",
       "Automagic is ON, % prefix IS NOT needed for line magics."
      ]
     },
     "execution_count": 19,
     "metadata": {},
     "output_type": "execute_result"
    }
   ],
   "source": [
    "%lsmagic"
   ]
  },
  {
   "cell_type": "code",
   "execution_count": 20,
   "metadata": {},
   "outputs": [
    {
     "data": {
      "text/plain": [
       "'D:\\\\python\\\\1_tutorials\\\\05_cschafer_tutorials\\\\2_pandas'"
      ]
     },
     "execution_count": 20,
     "metadata": {},
     "output_type": "execute_result"
    }
   ],
   "source": [
    "%pwd"
   ]
  },
  {
   "cell_type": "code",
   "execution_count": 21,
   "metadata": {},
   "outputs": [
    {
     "name": "stdout",
     "output_type": "stream",
     "text": [
      " Volume in drive D is Data\n",
      " Volume Serial Number is 6676-207C\n",
      "\n",
      " Directory of D:\\python\\1_tutorials\\05_cschafer_tutorials\\2_pandas\n",
      "\n",
      "19/08/2020  16:52    <DIR>          .\n",
      "19/08/2020  16:52    <DIR>          ..\n",
      "19/08/2020  16:30    <DIR>          .ipynb_checkpoints\n",
      "19/08/2020  16:52             9,265 Jupyter Notebooks - Introduction.ipynb\n",
      "19/08/2020  16:26               555 Pandas 1 - Getting Started.ipynb\n",
      "               2 File(s)          9,820 bytes\n",
      "               3 Dir(s)  68,498,722,816 bytes free\n"
     ]
    }
   ],
   "source": [
    "%ls"
   ]
  },
  {
   "cell_type": "code",
   "execution_count": 25,
   "metadata": {},
   "outputs": [],
   "source": [
    "%matplotlib inline"
   ]
  },
  {
   "cell_type": "code",
   "execution_count": 26,
   "metadata": {},
   "outputs": [
    {
     "data": {
      "image/png": "[encoded data removed]",
      "text/plain": [
       "<Figure size 432x288 with 1 Axes>"
      ]
     },
     "metadata": {
      "needs_background": "light"
     },
     "output_type": "display_data"
    }
   ],
   "source": [
    "\"\"\"\n",
    "Simple demo of a scatter plot\n",
    "\"\"\"\n",
    "import numpy as np\n",
    "import matplotlib.pyplot as plt\n",
    "\n",
    "N = 50\n",
    "x = np.random.rand(N)\n",
    "y = np.random.rand(N)\n",
    "colours = np.random.rand(N)\n",
    "area = np.pi * (15 * np.random.rand(N))**2  # 0 to 15 point radius\n",
    "\n",
    "plt.scatter(x, y, s=area, c=colours, alpha=0.5)\n",
    "plt.show()"
   ]
  },
  {
   "cell_type": "code",
   "execution_count": 28,
   "metadata": {},
   "outputs": [
    {
     "data": {
      "text/html": [
       "<iframe width=\"560\" height=\"315\" src=\"http://www.youtube.com/embed/HW29067qVWk\" frameborder=\"0\" allowfullscreen></iframe>\n"
      ],
      "text/plain": [
       "<IPython.core.display.HTML object>"
      ]
     },
     "metadata": {},
     "output_type": "display_data"
    }
   ],
   "source": [
    "%%HTML\n",
    "<iframe width=\"560\" height=\"315\" src=\"http://www.youtube.com/embed/HW29067qVWk\" frameborder=\"0\" allowfullscreen></iframe>"
   ]
  },
  {
   "cell_type": "code",
   "execution_count": 30,
   "metadata": {},
   "outputs": [
    {
     "name": "stdout",
     "output_type": "stream",
     "text": [
      "51.8 µs ± 368 ns per loop (mean ± std. dev. of 7 runs, 10000 loops each)\n"
     ]
    }
   ],
   "source": [
    "%%timeit\n",
    "square_evens = [n*n for n in range(1000)]"
   ]
  },
  {
   "cell_type": "code",
   "execution_count": 35,
   "metadata": {},
   "outputs": [
    {
     "data": {
      "text/html": [
       "<div>\n",
       "<style scoped>\n",
       "    .dataframe tbody tr th:only-of-type {\n",
       "        vertical-align: middle;\n",
       "    }\n",
       "\n",
       "    .dataframe tbody tr th {\n",
       "        vertical-align: top;\n",
       "    }\n",
       "\n",
       "    .dataframe thead th {\n",
       "        text-align: right;\n",
       "    }\n",
       "</style>\n",
       "<table border=\"1\" class=\"dataframe\">\n",
       "  <thead>\n",
       "    <tr style=\"text-align: right;\">\n",
       "      <th></th>\n",
       "      <th>0</th>\n",
       "      <th>1</th>\n",
       "      <th>2</th>\n",
       "      <th>3</th>\n",
       "      <th>4</th>\n",
       "    </tr>\n",
       "  </thead>\n",
       "  <tbody>\n",
       "    <tr>\n",
       "      <th>0</th>\n",
       "      <td>2.432486</td>\n",
       "      <td>-0.826610</td>\n",
       "      <td>-1.226150</td>\n",
       "      <td>-2.538619</td>\n",
       "      <td>-0.147399</td>\n",
       "    </tr>\n",
       "    <tr>\n",
       "      <th>1</th>\n",
       "      <td>1.584826</td>\n",
       "      <td>-0.333096</td>\n",
       "      <td>-0.222078</td>\n",
       "      <td>0.537457</td>\n",
       "      <td>1.748181</td>\n",
       "    </tr>\n",
       "    <tr>\n",
       "      <th>2</th>\n",
       "      <td>-0.706500</td>\n",
       "      <td>0.306096</td>\n",
       "      <td>-0.703712</td>\n",
       "      <td>-0.988133</td>\n",
       "      <td>0.596985</td>\n",
       "    </tr>\n",
       "    <tr>\n",
       "      <th>3</th>\n",
       "      <td>1.592710</td>\n",
       "      <td>1.314858</td>\n",
       "      <td>-0.012626</td>\n",
       "      <td>-1.217790</td>\n",
       "      <td>-0.651064</td>\n",
       "    </tr>\n",
       "    <tr>\n",
       "      <th>4</th>\n",
       "      <td>2.270846</td>\n",
       "      <td>-1.326469</td>\n",
       "      <td>0.843811</td>\n",
       "      <td>-0.947990</td>\n",
       "      <td>-1.161718</td>\n",
       "    </tr>\n",
       "    <tr>\n",
       "      <th>5</th>\n",
       "      <td>0.188435</td>\n",
       "      <td>-0.182104</td>\n",
       "      <td>-0.053120</td>\n",
       "      <td>-0.907962</td>\n",
       "      <td>0.099349</td>\n",
       "    </tr>\n",
       "    <tr>\n",
       "      <th>6</th>\n",
       "      <td>-0.973693</td>\n",
       "      <td>-0.939115</td>\n",
       "      <td>-0.717237</td>\n",
       "      <td>-0.118776</td>\n",
       "      <td>0.081803</td>\n",
       "    </tr>\n",
       "    <tr>\n",
       "      <th>7</th>\n",
       "      <td>2.213480</td>\n",
       "      <td>0.418003</td>\n",
       "      <td>0.548099</td>\n",
       "      <td>0.143033</td>\n",
       "      <td>-0.831083</td>\n",
       "    </tr>\n",
       "    <tr>\n",
       "      <th>8</th>\n",
       "      <td>-1.183557</td>\n",
       "      <td>-0.332846</td>\n",
       "      <td>-0.762130</td>\n",
       "      <td>-0.570836</td>\n",
       "      <td>-0.854305</td>\n",
       "    </tr>\n",
       "    <tr>\n",
       "      <th>9</th>\n",
       "      <td>2.436098</td>\n",
       "      <td>1.228830</td>\n",
       "      <td>-1.301717</td>\n",
       "      <td>2.068813</td>\n",
       "      <td>-1.595001</td>\n",
       "    </tr>\n",
       "  </tbody>\n",
       "</table>\n",
       "</div>"
      ],
      "text/plain": [
       "          0         1         2         3         4\n",
       "0  2.432486 -0.826610 -1.226150 -2.538619 -0.147399\n",
       "1  1.584826 -0.333096 -0.222078  0.537457  1.748181\n",
       "2 -0.706500  0.306096 -0.703712 -0.988133  0.596985\n",
       "3  1.592710  1.314858 -0.012626 -1.217790 -0.651064\n",
       "4  2.270846 -1.326469  0.843811 -0.947990 -1.161718\n",
       "5  0.188435 -0.182104 -0.053120 -0.907962  0.099349\n",
       "6 -0.973693 -0.939115 -0.717237 -0.118776  0.081803\n",
       "7  2.213480  0.418003  0.548099  0.143033 -0.831083\n",
       "8 -1.183557 -0.332846 -0.762130 -0.570836 -0.854305\n",
       "9  2.436098  1.228830 -1.301717  2.068813 -1.595001"
      ]
     },
     "execution_count": 35,
     "metadata": {},
     "output_type": "execute_result"
    }
   ],
   "source": [
    "import pandas as pd\n",
    "import numpy as np\n",
    "\n",
    "df = pd.DataFrame(np.random.randn(10,5))\n",
    "df"
   ]
  },
  {
   "cell_type": "markdown",
   "metadata": {},
   "source": [
    "### Lots of useful jupyter notebooks examples available here:\n",
    "\n",
    "\n",
    "https://github.com/jupyter/jupyter/wiki/A-gallery-of-interesting-Jupyter-Notebooks"
   ]
  },
  {
   "cell_type": "code",
   "execution_count": null,
   "metadata": {},
   "outputs": [],
   "source": []
  }
 ],
 "metadata": {
  "kernelspec": {
   "display_name": "Python 3",
   "language": "python",
   "name": "python3"
  },
  "language_info": {
   "codemirror_mode": {
    "name": "ipython",
    "version": 3
   },
   "file_extension": ".py",
   "mimetype": "text/x-python",
   "name": "python",
   "nbconvert_exporter": "python",
   "pygments_lexer": "ipython3",
   "version": "3.8.5"
  }
 },
 "nbformat": 4,
 "nbformat_minor": 4
}
